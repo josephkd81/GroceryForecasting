{
 "cells": [
  {
   "cell_type": "markdown",
   "metadata": {},
   "source": [
    "# Separate dataset by Store"
   ]
  },
  {
   "cell_type": "markdown",
   "metadata": {},
   "source": [
    "## Summary\n",
    "- 문제 : train_use dataset의 사용 메모리가 너무 커서 컴퓨팅 파워가 따라가지 못하고 퍼지는 현상 발생.\n",
    "- 해결-1 : Memory Optimization을 해도 약 1GB에 달하는 메모리 차지. 당연히 연산은 불가능함. AWS를 사용하는 방법도 있지만 금전적 한계\n",
    "- 해결-2 : 54개의 store 중 1개만 사용하기로 함. 사용 메모리 227MB로 감소."
   ]
  },
  {
   "cell_type": "code",
   "execution_count": null,
   "metadata": {
    "collapsed": true
   },
   "outputs": [],
   "source": []
  },
  {
   "cell_type": "code",
   "execution_count": 1,
   "metadata": {
    "collapsed": true
   },
   "outputs": [],
   "source": [
    "import pandas as pd\n",
    "import numpy as np\n",
    "import csv"
   ]
  },
  {
   "cell_type": "code",
   "execution_count": 2,
   "metadata": {},
   "outputs": [
    {
     "name": "stdout",
     "output_type": "stream",
     "text": [
      "CPU times: user 4min 31s, sys: 1min 21s, total: 5min 52s\n",
      "Wall time: 6min 2s\n"
     ]
    }
   ],
   "source": [
    "%%time\n",
    "\n",
    "# Memory optimization\n",
    "dtypes = {'id': 'int32',\n",
    "          'store_nbr': 'int8',\n",
    "          'item_nbr': 'int32',\n",
    "          'class': 'int16',\n",
    "          'perishable': 'bool',\n",
    "          'cluster': 'int8',\n",
    "          'earthquake': 'bool',\n",
    "          'year': 'int16',\n",
    "          'month': 'int8',\n",
    "          'day': 'int8'}\n",
    "\n",
    "df_train = pd.read_csv('./data/train_use.csv', low_memory=True, dtype=dtypes)\n",
    "\n",
    "df_train = df_train.drop(df_train.columns[[0]], axis=1)"
   ]
  },
  {
   "cell_type": "code",
   "execution_count": 3,
   "metadata": {},
   "outputs": [
    {
     "name": "stdout",
     "output_type": "stream",
     "text": [
      "df_train uses 10596.098616600037 MB\n"
     ]
    }
   ],
   "source": [
    "mem_test = df_train.memory_usage(index=True).sum()\n",
    "print('df_train uses', mem_test/1024**2, 'MB')"
   ]
  },
  {
   "cell_type": "code",
   "execution_count": 4,
   "metadata": {
    "collapsed": true
   },
   "outputs": [],
   "source": [
    "pd.set_option('display.max_rows', 100)\n",
    "pd.set_option('display.max_columns', 100)\n",
    "pd.set_option('display.memory_usage', True)"
   ]
  },
  {
   "cell_type": "code",
   "execution_count": 6,
   "metadata": {
    "collapsed": true
   },
   "outputs": [],
   "source": [
    "# Describe datasets\n",
    "def desc_dataset(dataset):\n",
    "    desc_dataset_ = pd.DataFrame()\n",
    "    colname = dataset.keys()\n",
    "    \n",
    "    dataset_type = []\n",
    "    dataset_nunique = []\n",
    "    \n",
    "    for i in colname:\n",
    "        dataset_type.append(dataset[i].dtypes)\n",
    "        dataset_nunique.append(dataset[i].nunique())\n",
    "        \n",
    "    desc_dataset_['column_name'] = colname\n",
    "    desc_dataset_['dtype'] = dataset_type\n",
    "    desc_dataset_['n_unique'] = dataset_nunique\n",
    "    \n",
    "    return desc_dataset_"
   ]
  },
  {
   "cell_type": "code",
   "execution_count": 7,
   "metadata": {},
   "outputs": [
    {
     "data": {
      "text/html": [
       "<div>\n",
       "<style>\n",
       "    .dataframe thead tr:only-child th {\n",
       "        text-align: right;\n",
       "    }\n",
       "\n",
       "    .dataframe thead th {\n",
       "        text-align: left;\n",
       "    }\n",
       "\n",
       "    .dataframe tbody tr th {\n",
       "        vertical-align: top;\n",
       "    }\n",
       "</style>\n",
       "<table border=\"1\" class=\"dataframe\">\n",
       "  <thead>\n",
       "    <tr style=\"text-align: right;\">\n",
       "      <th></th>\n",
       "      <th>column_name</th>\n",
       "      <th>dtype</th>\n",
       "      <th>n_unique</th>\n",
       "    </tr>\n",
       "  </thead>\n",
       "  <tbody>\n",
       "    <tr>\n",
       "      <th>0</th>\n",
       "      <td>id</td>\n",
       "      <td>int32</td>\n",
       "      <td>103839389</td>\n",
       "    </tr>\n",
       "    <tr>\n",
       "      <th>1</th>\n",
       "      <td>store_nbr</td>\n",
       "      <td>int8</td>\n",
       "      <td>54</td>\n",
       "    </tr>\n",
       "    <tr>\n",
       "      <th>2</th>\n",
       "      <td>item_nbr</td>\n",
       "      <td>int32</td>\n",
       "      <td>4036</td>\n",
       "    </tr>\n",
       "    <tr>\n",
       "      <th>3</th>\n",
       "      <td>unit_sales</td>\n",
       "      <td>float64</td>\n",
       "      <td>214925</td>\n",
       "    </tr>\n",
       "    <tr>\n",
       "      <th>4</th>\n",
       "      <td>onpromotion</td>\n",
       "      <td>bool</td>\n",
       "      <td>2</td>\n",
       "    </tr>\n",
       "    <tr>\n",
       "      <th>5</th>\n",
       "      <td>family</td>\n",
       "      <td>object</td>\n",
       "      <td>33</td>\n",
       "    </tr>\n",
       "    <tr>\n",
       "      <th>6</th>\n",
       "      <td>class</td>\n",
       "      <td>int16</td>\n",
       "      <td>334</td>\n",
       "    </tr>\n",
       "    <tr>\n",
       "      <th>7</th>\n",
       "      <td>perishable</td>\n",
       "      <td>bool</td>\n",
       "      <td>2</td>\n",
       "    </tr>\n",
       "    <tr>\n",
       "      <th>8</th>\n",
       "      <td>city</td>\n",
       "      <td>object</td>\n",
       "      <td>22</td>\n",
       "    </tr>\n",
       "    <tr>\n",
       "      <th>9</th>\n",
       "      <td>state</td>\n",
       "      <td>object</td>\n",
       "      <td>16</td>\n",
       "    </tr>\n",
       "    <tr>\n",
       "      <th>10</th>\n",
       "      <td>type_store</td>\n",
       "      <td>object</td>\n",
       "      <td>5</td>\n",
       "    </tr>\n",
       "    <tr>\n",
       "      <th>11</th>\n",
       "      <td>cluster</td>\n",
       "      <td>int8</td>\n",
       "      <td>17</td>\n",
       "    </tr>\n",
       "    <tr>\n",
       "      <th>12</th>\n",
       "      <td>dcoilwtico</td>\n",
       "      <td>float64</td>\n",
       "      <td>1073</td>\n",
       "    </tr>\n",
       "    <tr>\n",
       "      <th>13</th>\n",
       "      <td>earthquake</td>\n",
       "      <td>bool</td>\n",
       "      <td>2</td>\n",
       "    </tr>\n",
       "    <tr>\n",
       "      <th>14</th>\n",
       "      <td>type_holiday</td>\n",
       "      <td>object</td>\n",
       "      <td>7</td>\n",
       "    </tr>\n",
       "    <tr>\n",
       "      <th>15</th>\n",
       "      <td>description_n</td>\n",
       "      <td>object</td>\n",
       "      <td>16</td>\n",
       "    </tr>\n",
       "    <tr>\n",
       "      <th>16</th>\n",
       "      <td>description_r</td>\n",
       "      <td>object</td>\n",
       "      <td>2</td>\n",
       "    </tr>\n",
       "    <tr>\n",
       "      <th>17</th>\n",
       "      <td>description_l</td>\n",
       "      <td>object</td>\n",
       "      <td>4</td>\n",
       "    </tr>\n",
       "    <tr>\n",
       "      <th>18</th>\n",
       "      <td>year</td>\n",
       "      <td>int16</td>\n",
       "      <td>4</td>\n",
       "    </tr>\n",
       "    <tr>\n",
       "      <th>19</th>\n",
       "      <td>month</td>\n",
       "      <td>int8</td>\n",
       "      <td>12</td>\n",
       "    </tr>\n",
       "    <tr>\n",
       "      <th>20</th>\n",
       "      <td>day</td>\n",
       "      <td>int8</td>\n",
       "      <td>31</td>\n",
       "    </tr>\n",
       "    <tr>\n",
       "      <th>21</th>\n",
       "      <td>week_day</td>\n",
       "      <td>object</td>\n",
       "      <td>7</td>\n",
       "    </tr>\n",
       "  </tbody>\n",
       "</table>\n",
       "</div>"
      ],
      "text/plain": [
       "      column_name    dtype   n_unique\n",
       "0              id    int32  103839389\n",
       "1       store_nbr     int8         54\n",
       "2        item_nbr    int32       4036\n",
       "3      unit_sales  float64     214925\n",
       "4     onpromotion     bool          2\n",
       "5          family   object         33\n",
       "6           class    int16        334\n",
       "7      perishable     bool          2\n",
       "8            city   object         22\n",
       "9           state   object         16\n",
       "10     type_store   object          5\n",
       "11        cluster     int8         17\n",
       "12     dcoilwtico  float64       1073\n",
       "13     earthquake     bool          2\n",
       "14   type_holiday   object          7\n",
       "15  description_n   object         16\n",
       "16  description_r   object          2\n",
       "17  description_l   object          4\n",
       "18           year    int16          4\n",
       "19          month     int8         12\n",
       "20            day     int8         31\n",
       "21       week_day   object          7"
      ]
     },
     "execution_count": 7,
     "metadata": {},
     "output_type": "execute_result"
    }
   ],
   "source": [
    "%%time\n",
    "desc_train = desc_dataset(df_train)\n",
    "desc_train"
   ]
  },
  {
   "cell_type": "code",
   "execution_count": 8,
   "metadata": {},
   "outputs": [
    {
     "name": "stdout",
     "output_type": "stream",
     "text": [
      "CPU times: user 558 ms, sys: 675 ms, total: 1.23 s\n",
      "Wall time: 1.77 s\n"
     ]
    }
   ],
   "source": [
    "%%time\n",
    "df_train_store_1 = df_train[df_train.store_nbr == 1]"
   ]
  },
  {
   "cell_type": "code",
   "execution_count": 8,
   "metadata": {},
   "outputs": [
    {
     "name": "stdout",
     "output_type": "stream",
     "text": [
      "df_train_store_1 uses 227.822780609 MB\n"
     ]
    }
   ],
   "source": [
    "mem_test = df_train_store_1.memory_usage(index=True).sum()\n",
    "print('df_train_store_1 uses', mem_test/1024**2, 'MB')"
   ]
  },
  {
   "cell_type": "code",
   "execution_count": 10,
   "metadata": {
    "collapsed": true
   },
   "outputs": [
    {
     "data": {
      "text/html": [
       "<div>\n",
       "<style>\n",
       "    .dataframe thead tr:only-child th {\n",
       "        text-align: right;\n",
       "    }\n",
       "\n",
       "    .dataframe thead th {\n",
       "        text-align: left;\n",
       "    }\n",
       "\n",
       "    .dataframe tbody tr th {\n",
       "        vertical-align: top;\n",
       "    }\n",
       "</style>\n",
       "<table border=\"1\" class=\"dataframe\">\n",
       "  <thead>\n",
       "    <tr style=\"text-align: right;\">\n",
       "      <th></th>\n",
       "      <th>column_name</th>\n",
       "      <th>dtype</th>\n",
       "      <th>n_unique</th>\n",
       "    </tr>\n",
       "  </thead>\n",
       "  <tbody>\n",
       "    <tr>\n",
       "      <th>0</th>\n",
       "      <td>id</td>\n",
       "      <td>int32</td>\n",
       "      <td>2077300</td>\n",
       "    </tr>\n",
       "    <tr>\n",
       "      <th>1</th>\n",
       "      <td>store_nbr</td>\n",
       "      <td>int8</td>\n",
       "      <td>1</td>\n",
       "    </tr>\n",
       "    <tr>\n",
       "      <th>2</th>\n",
       "      <td>item_nbr</td>\n",
       "      <td>int32</td>\n",
       "      <td>3557</td>\n",
       "    </tr>\n",
       "    <tr>\n",
       "      <th>3</th>\n",
       "      <td>unit_sales</td>\n",
       "      <td>float64</td>\n",
       "      <td>40653</td>\n",
       "    </tr>\n",
       "    <tr>\n",
       "      <th>4</th>\n",
       "      <td>onpromotion</td>\n",
       "      <td>bool</td>\n",
       "      <td>2</td>\n",
       "    </tr>\n",
       "    <tr>\n",
       "      <th>5</th>\n",
       "      <td>family</td>\n",
       "      <td>object</td>\n",
       "      <td>32</td>\n",
       "    </tr>\n",
       "    <tr>\n",
       "      <th>6</th>\n",
       "      <td>class</td>\n",
       "      <td>int16</td>\n",
       "      <td>313</td>\n",
       "    </tr>\n",
       "    <tr>\n",
       "      <th>7</th>\n",
       "      <td>perishable</td>\n",
       "      <td>bool</td>\n",
       "      <td>2</td>\n",
       "    </tr>\n",
       "    <tr>\n",
       "      <th>8</th>\n",
       "      <td>city</td>\n",
       "      <td>object</td>\n",
       "      <td>1</td>\n",
       "    </tr>\n",
       "    <tr>\n",
       "      <th>9</th>\n",
       "      <td>state</td>\n",
       "      <td>object</td>\n",
       "      <td>1</td>\n",
       "    </tr>\n",
       "    <tr>\n",
       "      <th>10</th>\n",
       "      <td>type_store</td>\n",
       "      <td>object</td>\n",
       "      <td>1</td>\n",
       "    </tr>\n",
       "    <tr>\n",
       "      <th>11</th>\n",
       "      <td>cluster</td>\n",
       "      <td>int8</td>\n",
       "      <td>1</td>\n",
       "    </tr>\n",
       "    <tr>\n",
       "      <th>12</th>\n",
       "      <td>dcoilwtico</td>\n",
       "      <td>float64</td>\n",
       "      <td>1070</td>\n",
       "    </tr>\n",
       "    <tr>\n",
       "      <th>13</th>\n",
       "      <td>earthquake</td>\n",
       "      <td>bool</td>\n",
       "      <td>2</td>\n",
       "    </tr>\n",
       "    <tr>\n",
       "      <th>14</th>\n",
       "      <td>type_holiday</td>\n",
       "      <td>object</td>\n",
       "      <td>7</td>\n",
       "    </tr>\n",
       "    <tr>\n",
       "      <th>15</th>\n",
       "      <td>description_n</td>\n",
       "      <td>object</td>\n",
       "      <td>16</td>\n",
       "    </tr>\n",
       "    <tr>\n",
       "      <th>16</th>\n",
       "      <td>description_r</td>\n",
       "      <td>object</td>\n",
       "      <td>1</td>\n",
       "    </tr>\n",
       "    <tr>\n",
       "      <th>17</th>\n",
       "      <td>description_l</td>\n",
       "      <td>object</td>\n",
       "      <td>2</td>\n",
       "    </tr>\n",
       "    <tr>\n",
       "      <th>18</th>\n",
       "      <td>year</td>\n",
       "      <td>int16</td>\n",
       "      <td>4</td>\n",
       "    </tr>\n",
       "    <tr>\n",
       "      <th>19</th>\n",
       "      <td>month</td>\n",
       "      <td>int8</td>\n",
       "      <td>12</td>\n",
       "    </tr>\n",
       "    <tr>\n",
       "      <th>20</th>\n",
       "      <td>day</td>\n",
       "      <td>int8</td>\n",
       "      <td>31</td>\n",
       "    </tr>\n",
       "    <tr>\n",
       "      <th>21</th>\n",
       "      <td>week_day</td>\n",
       "      <td>object</td>\n",
       "      <td>7</td>\n",
       "    </tr>\n",
       "  </tbody>\n",
       "</table>\n",
       "</div>"
      ],
      "text/plain": [
       "      column_name    dtype  n_unique\n",
       "0              id    int32   2077300\n",
       "1       store_nbr     int8         1\n",
       "2        item_nbr    int32      3557\n",
       "3      unit_sales  float64     40653\n",
       "4     onpromotion     bool         2\n",
       "5          family   object        32\n",
       "6           class    int16       313\n",
       "7      perishable     bool         2\n",
       "8            city   object         1\n",
       "9           state   object         1\n",
       "10     type_store   object         1\n",
       "11        cluster     int8         1\n",
       "12     dcoilwtico  float64      1070\n",
       "13     earthquake     bool         2\n",
       "14   type_holiday   object         7\n",
       "15  description_n   object        16\n",
       "16  description_r   object         1\n",
       "17  description_l   object         2\n",
       "18           year    int16         4\n",
       "19          month     int8        12\n",
       "20            day     int8        31\n",
       "21       week_day   object         7"
      ]
     },
     "execution_count": 10,
     "metadata": {},
     "output_type": "execute_result"
    }
   ],
   "source": [
    "desc_train_store_1 = desc_dataset(df_train_store_1)\n",
    "desc_train_store_1"
   ]
  },
  {
   "cell_type": "code",
   "execution_count": 6,
   "metadata": {},
   "outputs": [
    {
     "name": "stdout",
     "output_type": "stream",
     "text": [
      "CPU times: user 14.2 s, sys: 98.8 ms, total: 14.3 s\n",
      "Wall time: 14.4 s\n"
     ]
    }
   ],
   "source": [
    "%%time\n",
    "df_train_store_1.to_csv('./data/train_store_1.csv', index=False)"
   ]
  },
  {
   "cell_type": "code",
   "execution_count": null,
   "metadata": {
    "collapsed": true
   },
   "outputs": [],
   "source": []
  }
 ],
 "metadata": {
  "kernelspec": {
   "display_name": "Python 3",
   "language": "python",
   "name": "python3"
  },
  "language_info": {
   "codemirror_mode": {
    "name": "ipython",
    "version": 3
   },
   "file_extension": ".py",
   "mimetype": "text/x-python",
   "name": "python",
   "nbconvert_exporter": "python",
   "pygments_lexer": "ipython3",
   "version": "3.6.3"
  }
 },
 "nbformat": 4,
 "nbformat_minor": 2
}
